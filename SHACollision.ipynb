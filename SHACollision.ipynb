{
  "nbformat": 4,
  "nbformat_minor": 0,
  "metadata": {
    "colab": {
      "name": "SHACollision.ipynb",
      "provenance": [],
      "collapsed_sections": []
    },
    "kernelspec": {
      "name": "python3",
      "display_name": "Python 3"
    },
    "language_info": {
      "name": "python"
    }
  },
  "cells": [
    {
      "cell_type": "markdown",
      "metadata": {
        "id": "RFLOaoZ5022r"
      },
      "source": [
        "#SHA Family"
      ]
    },
    {
      "cell_type": "markdown",
      "metadata": {
        "id": "a1lxnPR-0EkX"
      },
      "source": [
        "Example for ‘sha3–512’ hash function from the SHA3 family"
      ]
    },
    {
      "cell_type": "markdown",
      "metadata": {
        "id": "IxcMOo1W9Lpn"
      },
      "source": [
        "#HASH FUNCTION COLLISION PROTOTYPE(Imoprting Data  to dataframe)\n"
      ]
    },
    {
      "cell_type": "code",
      "metadata": {
        "id": "7PqA41LkFsQB"
      },
      "source": [
        "import pandas as pd\n",
        "import seaborn as sns\n",
        "import matplotlib.pyplot as plt\n"
      ],
      "execution_count": null,
      "outputs": []
    },
    {
      "cell_type": "code",
      "metadata": {
        "id": "pLXCMpVYyCuV"
      },
      "source": [
        "#Create a list to store the values which we can later input into a dataframe\n",
        "word_length_sze_list = []\n",
        "num_expriremnts_list =[]\n",
        "hash_size_list =[]\n",
        "\n",
        "num_collisions_list = []\n",
        "total_duration_each_exp_list = []\n"
      ],
      "execution_count": null,
      "outputs": []
    },
    {
      "cell_type": "markdown",
      "metadata": {
        "id": "DgfXdNqpKjE1"
      },
      "source": [
        "#We will run a combination of the three parameters that we are changing so that we can get a wide variety of results and see how the variables are correlated"
      ]
    },
    {
      "cell_type": "markdown",
      "metadata": {
        "id": "h28VTpTFD9zP"
      },
      "source": [
        "##ONLY CHANGING THE HASH value"
      ]
    },
    {
      "cell_type": "code",
      "metadata": {
        "id": "N64XHUY9qN-9"
      },
      "source": [
        "\n",
        "# Generate a dictionary file. If it already exist, then only reads from it.\n",
        "def generate_dictionary():\n",
        "    try:\n",
        "        # Check if the dictionary file exist.\n",
        "        file = open('dictionary.txt', 'r')\n",
        "        print(\"Opening dictionary ...\")\n",
        "        file.close()\n",
        "        return\n",
        "    except IOError:\n",
        "        print(\"Generating dictionary ...\")\n",
        "\n",
        "    file = open('dictionary.txt', 'w')\n",
        "\n",
        "    # All possible combinations of n=word_length letters.\n",
        "    for i in product(ascii_letters, repeat=word_length):\n",
        "        file.write(''.join(i) + '\\n')\n",
        "    file.close()\n",
        "\n"
      ],
      "execution_count": null,
      "outputs": []
    },
    {
      "cell_type": "code",
      "metadata": {
        "colab": {
          "base_uri": "https://localhost:8080/"
        },
        "id": "azLLZ5Jkp4Ao",
        "outputId": "f56300ed-863a-4917-d4af-37e6a972be72"
      },
      "source": [
        "from hashlib import blake2b\n",
        "from itertools import product\n",
        "from string import ascii_letters\n",
        "import time\n",
        "\n",
        "# Hash size in bytes.\n",
        "hash_size = 3\n",
        "\n",
        "# Number of experiments.\n",
        "experiments = 100\n",
        "\n",
        "# Number of letters by word\n",
        "word_length = 3\n",
        "\n",
        "\n",
        "generate_dictionary()\n",
        "    # Use set for faster search of hashes.\n",
        "hash_set = set()\n",
        "print(\"-- Hashing started --\")\n",
        "# Set start time to measure collision.\n",
        "start_time = time.time()\n",
        "# The input message.\n",
        "collision_count = 0\n",
        "\n",
        "total_duration = 0\n",
        "\n",
        "file = open('dictionary.txt', 'r')\n",
        "\n",
        "for msg in file:\n",
        "    # Delete \\n at the end of string.\n",
        "    msg = msg.rstrip()\n",
        "        # Message in bytes.\n",
        "    byte_str = msg.encode()\n",
        "        # Hash object constructor, with hash length=3 bytes (24 bits).\n",
        "    digest = blake2b(byte_str, digest_size=hash_size)\n",
        "        # Generate the message digest.\n",
        "    hashed_msg = digest.hexdigest()\n",
        "\n",
        "    if hashed_msg in hash_set:\n",
        "            # Get collision time duration.\n",
        "        duration = time.time() - start_time\n",
        "            # print(\"Found a collision - word: {} -> hash: {} in {} seconds.\".format(msg, hashed_msg, duration))\n",
        "            # Empty the hash in every collision.\n",
        "        hash_set = set()\n",
        "            # Restart timer.\n",
        "        start_time = time.time()\n",
        "        collision_count += 1\n",
        "        total_duration += duration\n",
        "\n",
        "    if collision_count == experiments:\n",
        "        total_duration = total_duration / experiments\n",
        "        print(\"Collisions found: {}\".format(experiments))\n",
        "        print(\"Average collision found time : {} seconds.\".format(total_duration))\n",
        "        break\n",
        "\n",
        "        # Adds a new hash value to the set.\n",
        "    hash_set.add(hashed_msg)\n",
        "\n",
        "if collision_count != 0:\n",
        "    total_duration = total_duration / collision_count\n",
        "    print(\"Collisions found: {}\".format(collision_count))\n",
        "    print(\"Average collision found time: {} seconds.\".format(total_duration))\n",
        "\n",
        "else:\n",
        "    print(\"No collisions found!\")\n",
        "\n",
        "\n"
      ],
      "execution_count": null,
      "outputs": [
        {
          "output_type": "stream",
          "name": "stdout",
          "text": [
            "Generating dictionary ...\n",
            "-- Hashing started --\n",
            "Collisions found: 26\n",
            "Average collision found time: 0.008240305460416354 seconds.\n"
          ]
        }
      ]
    },
    {
      "cell_type": "code",
      "metadata": {
        "id": "-Zlof8DqklRt"
      },
      "source": [
        "#appending the vlaues we recieved and the parameters passed into the list\n",
        "\n",
        "#appending the values that we obtained from the code above\n",
        "hash_size_list.append(hash_size)\n",
        "total_duration_each_exp_list.append(total_duration)\n",
        "num_collisions_list.append(collision_count)\n",
        "\n",
        "#appending the parameter values\n",
        "num_expriremnts_list.append(experiments)\n",
        "word_length_sze_list.append(word_length)"
      ],
      "execution_count": null,
      "outputs": []
    },
    {
      "cell_type": "code",
      "metadata": {
        "colab": {
          "base_uri": "https://localhost:8080/"
        },
        "id": "EhN7_6KaqxSg",
        "outputId": "1fd35b3a-285b-4828-a40b-f70591a2a637"
      },
      "source": [
        "from hashlib import blake2b\n",
        "from itertools import product\n",
        "from string import ascii_letters\n",
        "import time\n",
        "\n",
        "# Hash size in bytes.\n",
        "hash_size = 4\n",
        "\n",
        "# Number of experiments.\n",
        "experiments = 100\n",
        "\n",
        "# Number of letters by word\n",
        "word_length = 3\n",
        "\n",
        "\n",
        "generate_dictionary()\n",
        "    # Use set for faster search of hashes.\n",
        "hash_set = set()\n",
        "print(\"-- Hashing started --\")\n",
        "# Set start time to measure collision.\n",
        "start_time = time.time()\n",
        "# The input message.\n",
        "collision_count = 0\n",
        "\n",
        "total_duration = 0\n",
        "\n",
        "file = open('dictionary.txt', 'r')\n",
        "\n",
        "for msg in file:\n",
        "    # Delete \\n at the end of string.\n",
        "    msg = msg.rstrip()\n",
        "        # Message in bytes.\n",
        "    byte_str = msg.encode()\n",
        "        # Hash object constructor, with hash length=3 bytes (24 bits).\n",
        "    digest = blake2b(byte_str, digest_size=hash_size)\n",
        "        # Generate the message digest.\n",
        "    hashed_msg = digest.hexdigest()\n",
        "\n",
        "    if hashed_msg in hash_set:\n",
        "            # Get collision time duration.\n",
        "        duration = time.time() - start_time\n",
        "            # print(\"Found a collision - word: {} -> hash: {} in {} seconds.\".format(msg, hashed_msg, duration))\n",
        "            # Empty the hash in every collision.\n",
        "        hash_set = set()\n",
        "            # Restart timer.\n",
        "        start_time = time.time()\n",
        "        collision_count += 1\n",
        "        total_duration += duration\n",
        "\n",
        "    if collision_count == experiments:\n",
        "        total_duration = total_duration / experiments\n",
        "        print(\"Collisions found: {}\".format(experiments))\n",
        "        print(\"Average collision found time : {} seconds.\".format(total_duration))\n",
        "        break\n",
        "\n",
        "        # Adds a new hash value to the set.\n",
        "    hash_set.add(hashed_msg)\n",
        "\n",
        "if collision_count != 0:\n",
        "    total_duration = total_duration / collision_count\n",
        "    print(\"Collisions found: {}\".format(collision_count))\n",
        "    print(\"Average collision found time: {} seconds.\".format(total_duration))\n",
        "\n",
        "else:\n",
        "    print(\"No collisions found!\")\n",
        "\n",
        "\n"
      ],
      "execution_count": null,
      "outputs": [
        {
          "output_type": "stream",
          "name": "stdout",
          "text": [
            "Opening dictionary ...\n",
            "-- Hashing started --\n",
            "Collisions found: 1\n",
            "Average collision found time: 0.07314395904541016 seconds.\n"
          ]
        }
      ]
    },
    {
      "cell_type": "code",
      "metadata": {
        "id": "0oPSiFkCknF8"
      },
      "source": [
        "#appending the vlaues we recieved and the parameters passed into the list\n",
        "\n",
        "#appending the values that we obtained from the code above\n",
        "hash_size_list.append(hash_size)\n",
        "total_duration_each_exp_list.append(total_duration)\n",
        "num_collisions_list.append(collision_count)\n",
        "\n",
        "#appending the parameter values\n",
        "num_expriremnts_list.append(experiments)\n",
        "word_length_sze_list.append(word_length)"
      ],
      "execution_count": null,
      "outputs": []
    },
    {
      "cell_type": "code",
      "metadata": {
        "colab": {
          "base_uri": "https://localhost:8080/"
        },
        "id": "2YPPExkcq1Oi",
        "outputId": "9b43b586-29d4-4a70-e33e-88764204083d"
      },
      "source": [
        "from hashlib import blake2b\n",
        "from itertools import product\n",
        "from string import ascii_letters\n",
        "import time\n",
        "\n",
        "# Hash size in bytes.\n",
        "hash_size = 5\n",
        "\n",
        "# Number of experiments.\n",
        "experiments = 100\n",
        "\n",
        "# Number of letters by word\n",
        "word_length = 3\n",
        "\n",
        "\n",
        "generate_dictionary()\n",
        "    # Use set for faster search of hashes.\n",
        "hash_set = set()\n",
        "print(\"-- Hashing started --\")\n",
        "# Set start time to measure collision.\n",
        "start_time = time.time()\n",
        "# The input message.\n",
        "collision_count = 0\n",
        "\n",
        "total_duration = 0\n",
        "\n",
        "file = open('dictionary.txt', 'r')\n",
        "\n",
        "for msg in file:\n",
        "    # Delete \\n at the end of string.\n",
        "    msg = msg.rstrip()\n",
        "        # Message in bytes.\n",
        "    byte_str = msg.encode()\n",
        "        # Hash object constructor, with hash length=3 bytes (24 bits).\n",
        "    digest = blake2b(byte_str, digest_size=hash_size)\n",
        "        # Generate the message digest.\n",
        "    hashed_msg = digest.hexdigest()\n",
        "\n",
        "    if hashed_msg in hash_set:\n",
        "            # Get collision time duration.\n",
        "        duration = time.time() - start_time\n",
        "            # print(\"Found a collision - word: {} -> hash: {} in {} seconds.\".format(msg, hashed_msg, duration))\n",
        "            # Empty the hash in every collision.\n",
        "        hash_set = set()\n",
        "            # Restart timer.\n",
        "        start_time = time.time()\n",
        "        collision_count += 1\n",
        "        total_duration += duration\n",
        "\n",
        "    if collision_count == experiments:\n",
        "        total_duration = total_duration / experiments\n",
        "        print(\"Collisions found: {}\".format(experiments))\n",
        "        print(\"Average collision found time : {} seconds.\".format(total_duration))\n",
        "        break\n",
        "\n",
        "        # Adds a new hash value to the set.\n",
        "    hash_set.add(hashed_msg)\n",
        "\n",
        "if collision_count != 0:\n",
        "    total_duration = total_duration / collision_count\n",
        "    print(\"Collisions found: {}\".format(collision_count))\n",
        "    print(\"Average collision found time: {} seconds.\".format(total_duration))\n",
        "\n",
        "else:\n",
        "    print(\"No collisions found!\")\n",
        "\n",
        "  "
      ],
      "execution_count": null,
      "outputs": [
        {
          "output_type": "stream",
          "name": "stdout",
          "text": [
            "Opening dictionary ...\n",
            "-- Hashing started --\n",
            "No collisions found!\n"
          ]
        }
      ]
    },
    {
      "cell_type": "code",
      "metadata": {
        "id": "7yVkdxotkoZa"
      },
      "source": [
        "#appending the vlaues we recieved and the parameters passed into the list\n",
        "\n",
        "#appending the values that we obtained from the code above\n",
        "hash_size_list.append(hash_size)\n",
        "total_duration_each_exp_list.append(total_duration)\n",
        "num_collisions_list.append(collision_count)\n",
        "\n",
        "#appending the parameter values\n",
        "num_expriremnts_list.append(experiments)\n",
        "word_length_sze_list.append(word_length)"
      ],
      "execution_count": null,
      "outputs": []
    },
    {
      "cell_type": "markdown",
      "metadata": {
        "id": "kAutKSsvmlNM"
      },
      "source": [
        "INCREASING NUMBER OF EXPERIMENTS"
      ]
    },
    {
      "cell_type": "code",
      "metadata": {
        "id": "RBhSM1OIq1Q3",
        "colab": {
          "base_uri": "https://localhost:8080/"
        },
        "outputId": "28dfabcc-ed1f-4799-9977-479c34a663b9"
      },
      "source": [
        "from hashlib import blake2b\n",
        "from itertools import product\n",
        "from string import ascii_letters\n",
        "import time\n",
        "\n",
        "# Hash size in bytes.\n",
        "hash_size = 3\n",
        "\n",
        "# Number of experiments.\n",
        "experiments = 150\n",
        "\n",
        "# Number of letters by word\n",
        "word_length = 3\n",
        "\n",
        "\n",
        "generate_dictionary()\n",
        "    # Use set for faster search of hashes.\n",
        "hash_set = set()\n",
        "print(\"-- Hashing started --\")\n",
        "# Set start time to measure collision.\n",
        "start_time = time.time()\n",
        "# The input message.\n",
        "collision_count = 0\n",
        "\n",
        "total_duration = 0\n",
        "\n",
        "file = open('dictionary.txt', 'r')\n",
        "\n",
        "for msg in file:\n",
        "    # Delete \\n at the end of string.\n",
        "    msg = msg.rstrip()\n",
        "        # Message in bytes.\n",
        "    byte_str = msg.encode()\n",
        "        # Hash object constructor, with hash length=3 bytes (24 bits).\n",
        "    digest = blake2b(byte_str, digest_size=hash_size)\n",
        "        # Generate the message digest.\n",
        "    hashed_msg = digest.hexdigest()\n",
        "\n",
        "    if hashed_msg in hash_set:\n",
        "            # Get collision time duration.\n",
        "        duration = time.time() - start_time\n",
        "            # print(\"Found a collision - word: {} -> hash: {} in {} seconds.\".format(msg, hashed_msg, duration))\n",
        "            # Empty the hash in every collision.\n",
        "        hash_set = set()\n",
        "            # Restart timer.\n",
        "        start_time = time.time()\n",
        "        collision_count += 1\n",
        "        total_duration += duration\n",
        "\n",
        "    if collision_count == experiments:\n",
        "        total_duration = total_duration / experiments\n",
        "        print(\"Collisions found: {}\".format(experiments))\n",
        "        print(\"Average collision found time : {} seconds.\".format(total_duration))\n",
        "        break\n",
        "\n",
        "        # Adds a new hash value to the set.\n",
        "    hash_set.add(hashed_msg)\n",
        "\n",
        "if collision_count != 0:\n",
        "    total_duration = total_duration / collision_count\n",
        "    print(\"Collisions found: {}\".format(collision_count))\n",
        "    print(\"Average collision found time: {} seconds.\".format(total_duration))\n",
        "\n",
        "else:\n",
        "    print(\"No collisions found!\")\n",
        "\n"
      ],
      "execution_count": null,
      "outputs": [
        {
          "output_type": "stream",
          "name": "stdout",
          "text": [
            "Opening dictionary ...\n",
            "-- Hashing started --\n",
            "Collisions found: 26\n",
            "Average collision found time: 0.008963199762197642 seconds.\n"
          ]
        }
      ]
    },
    {
      "cell_type": "code",
      "metadata": {
        "id": "X9kxGM3CkpIh"
      },
      "source": [
        "#appending the vlaues we recieved and the parameters passed into the list\n",
        "\n",
        "#appending the values that we obtained from the code above\n",
        "hash_size_list.append(hash_size)\n",
        "total_duration_each_exp_list.append(total_duration)\n",
        "num_collisions_list.append(collision_count)\n",
        "\n",
        "#appending the parameter values\n",
        "num_expriremnts_list.append(experiments)\n",
        "word_length_sze_list.append(word_length)"
      ],
      "execution_count": null,
      "outputs": []
    },
    {
      "cell_type": "code",
      "metadata": {
        "colab": {
          "base_uri": "https://localhost:8080/"
        },
        "id": "9H3pm3kyri8s",
        "outputId": "a7f54e78-5a13-4e9f-b92c-c52be531e6f3"
      },
      "source": [
        "from hashlib import blake2b\n",
        "from itertools import product\n",
        "from string import ascii_letters\n",
        "import time\n",
        "\n",
        "# Hash size in bytes.\n",
        "hash_size = 3\n",
        "\n",
        "# Number of experiments.\n",
        "experiments = 200\n",
        "\n",
        "# Number of letters by word\n",
        "word_length = 3\n",
        "\n",
        "\n",
        "generate_dictionary()\n",
        "    # Use set for faster search of hashes.\n",
        "hash_set = set()\n",
        "print(\"-- Hashing started --\")\n",
        "# Set start time to measure collision.\n",
        "start_time = time.time()\n",
        "# The input message.\n",
        "collision_count = 0\n",
        "\n",
        "total_duration = 0\n",
        "\n",
        "file = open('dictionary.txt', 'r')\n",
        "\n",
        "for msg in file:\n",
        "    # Delete \\n at the end of string.\n",
        "    msg = msg.rstrip()\n",
        "        # Message in bytes.\n",
        "    byte_str = msg.encode()\n",
        "        # Hash object constructor, with hash length=3 bytes (24 bits).\n",
        "    digest = blake2b(byte_str, digest_size=hash_size)\n",
        "        # Generate the message digest.\n",
        "    hashed_msg = digest.hexdigest()\n",
        "\n",
        "    if hashed_msg in hash_set:\n",
        "            # Get collision time duration.\n",
        "        duration = time.time() - start_time\n",
        "            # print(\"Found a collision - word: {} -> hash: {} in {} seconds.\".format(msg, hashed_msg, duration))\n",
        "            # Empty the hash in every collision.\n",
        "        hash_set = set()\n",
        "            # Restart timer.\n",
        "        start_time = time.time()\n",
        "        collision_count += 1\n",
        "        total_duration += duration\n",
        "\n",
        "    if collision_count == experiments:\n",
        "        total_duration = total_duration / experiments\n",
        "        print(\"Collisions found: {}\".format(experiments))\n",
        "        print(\"Average collision found time : {} seconds.\".format(total_duration))\n",
        "        break\n",
        "\n",
        "        # Adds a new hash value to the set.\n",
        "    hash_set.add(hashed_msg)\n",
        "\n",
        "if collision_count != 0:\n",
        "    total_duration = total_duration / collision_count\n",
        "    print(\"Collisions found: {}\".format(collision_count))\n",
        "    print(\"Average collision found time: {} seconds.\".format(total_duration))\n",
        "\n",
        "else:\n",
        "    print(\"No collisions found!\")\n"
      ],
      "execution_count": null,
      "outputs": [
        {
          "output_type": "stream",
          "name": "stdout",
          "text": [
            "Opening dictionary ...\n",
            "-- Hashing started --\n",
            "Collisions found: 26\n",
            "Average collision found time: 0.008269511736356296 seconds.\n"
          ]
        }
      ]
    },
    {
      "cell_type": "code",
      "metadata": {
        "id": "iomZNLqikp_Y"
      },
      "source": [
        "#appending the vlaues we recieved and the parameters passed into the list\n",
        "\n",
        "#appending the values that we obtained from the code above\n",
        "hash_size_list.append(hash_size)\n",
        "total_duration_each_exp_list.append(total_duration)\n",
        "num_collisions_list.append(collision_count)\n",
        "\n",
        "#appending the parameter values\n",
        "num_expriremnts_list.append(experiments)\n",
        "word_length_sze_list.append(word_length)"
      ],
      "execution_count": null,
      "outputs": []
    },
    {
      "cell_type": "markdown",
      "metadata": {
        "id": "wPB9wbmsm8UI"
      },
      "source": [
        "INCREASING THE WORD LENGTH"
      ]
    },
    {
      "cell_type": "code",
      "metadata": {
        "colab": {
          "base_uri": "https://localhost:8080/"
        },
        "id": "-lUOsvKpri_E",
        "outputId": "c95c3e9d-ecff-4f2b-88d6-4d246064f27e"
      },
      "source": [
        "from hashlib import blake2b\n",
        "from itertools import product\n",
        "from string import ascii_letters\n",
        "import time\n",
        "\n",
        "# Hash size in bytes.\n",
        "hash_size = 3\n",
        "\n",
        "# Number of experiments.\n",
        "experiments = 100\n",
        "\n",
        "# Number of letters by word\n",
        "word_length = 4\n",
        "\n",
        "\n",
        "generate_dictionary()\n",
        "    # Use set for faster search of hashes.\n",
        "hash_set = set()\n",
        "print(\"-- Hashing started --\")\n",
        "# Set start time to measure collision.\n",
        "start_time = time.time()\n",
        "# The input message.\n",
        "collision_count = 0\n",
        "\n",
        "total_duration = 0\n",
        "\n",
        "file = open('dictionary.txt', 'r')\n",
        "\n",
        "for msg in file:\n",
        "    # Delete \\n at the end of string.\n",
        "    msg = msg.rstrip()\n",
        "        # Message in bytes.\n",
        "    byte_str = msg.encode()\n",
        "        # Hash object constructor, with hash length=3 bytes (24 bits).\n",
        "    digest = blake2b(byte_str, digest_size=hash_size)\n",
        "        # Generate the message digest.\n",
        "    hashed_msg = digest.hexdigest()\n",
        "\n",
        "    if hashed_msg in hash_set:\n",
        "            # Get collision time duration.\n",
        "        duration = time.time() - start_time\n",
        "            # print(\"Found a collision - word: {} -> hash: {} in {} seconds.\".format(msg, hashed_msg, duration))\n",
        "            # Empty the hash in every collision.\n",
        "        hash_set = set()\n",
        "            # Restart timer.\n",
        "        start_time = time.time()\n",
        "        collision_count += 1\n",
        "        total_duration += duration\n",
        "\n",
        "    if collision_count == experiments:\n",
        "        total_duration = total_duration / experiments\n",
        "        print(\"Collisions found: {}\".format(experiments))\n",
        "        print(\"Average collision found time : {} seconds.\".format(total_duration))\n",
        "        break\n",
        "\n",
        "        # Adds a new hash value to the set.\n",
        "    hash_set.add(hashed_msg)\n",
        "\n",
        "if collision_count != 0:\n",
        "    total_duration = total_duration / collision_count\n",
        "    print(\"Collisions found: {}\".format(collision_count))\n",
        "    print(\"Average collision found time: {} seconds.\".format(total_duration))\n",
        "\n",
        "else:\n",
        "    print(\"No collisions found!\")\n"
      ],
      "execution_count": null,
      "outputs": [
        {
          "output_type": "stream",
          "name": "stdout",
          "text": [
            "Opening dictionary ...\n",
            "-- Hashing started --\n",
            "Collisions found: 26\n",
            "Average collision found time: 0.008424639701843262 seconds.\n"
          ]
        }
      ]
    },
    {
      "cell_type": "code",
      "metadata": {
        "id": "ttCrDg_BkrGU"
      },
      "source": [
        "#appending the vlaues we recieved and the parameters passed into the list\n",
        "\n",
        "#appending the values that we obtained from the code above\n",
        "hash_size_list.append(hash_size)\n",
        "total_duration_each_exp_list.append(total_duration)\n",
        "num_collisions_list.append(collision_count)\n",
        "\n",
        "#appending the parameter values\n",
        "num_expriremnts_list.append(experiments)\n",
        "word_length_sze_list.append(word_length)"
      ],
      "execution_count": null,
      "outputs": []
    },
    {
      "cell_type": "code",
      "metadata": {
        "id": "MsrWTo4MsQAp",
        "colab": {
          "base_uri": "https://localhost:8080/"
        },
        "outputId": "c6857a74-db15-446a-c417-3450c9ad546a"
      },
      "source": [
        "from hashlib import blake2b\n",
        "from itertools import product\n",
        "from string import ascii_letters\n",
        "import time\n",
        "\n",
        "# Hash size in bytes.\n",
        "hash_size = 3\n",
        "\n",
        "# Number of experiments.\n",
        "experiments = 100\n",
        "\n",
        "# Number of letters by word\n",
        "word_length = 5\n",
        "\n",
        "\n",
        "generate_dictionary()\n",
        "    # Use set for faster search of hashes.\n",
        "hash_set = set()\n",
        "print(\"-- Hashing started --\")\n",
        "# Set start time to measure collision.\n",
        "start_time = time.time()\n",
        "# The input message.\n",
        "collision_count = 0\n",
        "\n",
        "total_duration = 0\n",
        "\n",
        "file = open('dictionary.txt', 'r')\n",
        "\n",
        "for msg in file:\n",
        "    # Delete \\n at the end of string.\n",
        "    msg = msg.rstrip()\n",
        "        # Message in bytes.\n",
        "    byte_str = msg.encode()\n",
        "        # Hash object constructor, with hash length=3 bytes (24 bits).\n",
        "    digest = blake2b(byte_str, digest_size=hash_size)\n",
        "        # Generate the message digest.\n",
        "    hashed_msg = digest.hexdigest()\n",
        "\n",
        "    if hashed_msg in hash_set:\n",
        "            # Get collision time duration.\n",
        "        duration = time.time() - start_time\n",
        "            # print(\"Found a collision - word: {} -> hash: {} in {} seconds.\".format(msg, hashed_msg, duration))\n",
        "            # Empty the hash in every collision.\n",
        "        hash_set = set()\n",
        "            # Restart timer.\n",
        "        start_time = time.time()\n",
        "        collision_count += 1\n",
        "        total_duration += duration\n",
        "\n",
        "    if collision_count == experiments:\n",
        "        total_duration = total_duration / experiments\n",
        "        print(\"Collisions found: {}\".format(experiments))\n",
        "        print(\"Average collision found time : {} seconds.\".format(total_duration))\n",
        "        break\n",
        "\n",
        "        # Adds a new hash value to the set.\n",
        "    hash_set.add(hashed_msg)\n",
        "\n",
        "if collision_count != 0:\n",
        "    total_duration = total_duration / collision_count\n",
        "    print(\"Collisions found: {}\".format(collision_count))\n",
        "    print(\"Average collision found time: {} seconds.\".format(total_duration))\n",
        "\n",
        "else:\n",
        "    print(\"No collisions found!\")\n"
      ],
      "execution_count": null,
      "outputs": [
        {
          "output_type": "stream",
          "name": "stdout",
          "text": [
            "Opening dictionary ...\n",
            "-- Hashing started --\n",
            "Collisions found: 26\n",
            "Average collision found time: 0.009015468450692983 seconds.\n"
          ]
        }
      ]
    },
    {
      "cell_type": "code",
      "metadata": {
        "id": "MYWZZk-JksSY"
      },
      "source": [
        "#appending the vlaues we recieved and the parameters passed into the list\n",
        "\n",
        "#appending the values that we obtained from the code above\n",
        "hash_size_list.append(hash_size)\n",
        "total_duration_each_exp_list.append(total_duration)\n",
        "num_collisions_list.append(collision_count)\n",
        "\n",
        "#appending the parameter values\n",
        "num_expriremnts_list.append(experiments)\n",
        "word_length_sze_list.append(word_length)"
      ],
      "execution_count": null,
      "outputs": []
    },
    {
      "cell_type": "code",
      "metadata": {
        "colab": {
          "base_uri": "https://localhost:8080/"
        },
        "id": "CvMLtDNblzUx",
        "outputId": "7f81e3f6-8001-4421-d817-7487f3309d7a"
      },
      "source": [
        "from hashlib import blake2b\n",
        "from itertools import product\n",
        "from string import ascii_letters\n",
        "import time\n",
        "\n",
        "# Hash size in bytes.\n",
        "hash_size = 4\n",
        "\n",
        "# Number of experiments.\n",
        "experiments = 100\n",
        "\n",
        "# Number of letters by word\n",
        "word_length = 4\n",
        "\n",
        "\n",
        "generate_dictionary()\n",
        "    # Use set for faster search of hashes.\n",
        "hash_set = set()\n",
        "print(\"-- Hashing started --\")\n",
        "# Set start time to measure collision.\n",
        "start_time = time.time()\n",
        "# The input message.\n",
        "collision_count = 0\n",
        "\n",
        "total_duration = 0\n",
        "\n",
        "file = open('dictionary.txt', 'r')\n",
        "\n",
        "for msg in file:\n",
        "    # Delete \\n at the end of string.\n",
        "    msg = msg.rstrip()\n",
        "        # Message in bytes.\n",
        "    byte_str = msg.encode()\n",
        "        # Hash object constructor, with hash length=3 bytes (24 bits).\n",
        "    digest = blake2b(byte_str, digest_size=hash_size)\n",
        "        # Generate the message digest.\n",
        "    hashed_msg = digest.hexdigest()\n",
        "\n",
        "    if hashed_msg in hash_set:\n",
        "            # Get collision time duration.\n",
        "        duration = time.time() - start_time\n",
        "            # print(\"Found a collision - word: {} -> hash: {} in {} seconds.\".format(msg, hashed_msg, duration))\n",
        "            # Empty the hash in every collision.\n",
        "        hash_set = set()\n",
        "            # Restart timer.\n",
        "        start_time = time.time()\n",
        "        collision_count += 1\n",
        "        total_duration += duration\n",
        "\n",
        "    if collision_count == experiments:\n",
        "        total_duration = total_duration / experiments\n",
        "        print(\"Collisions found: {}\".format(experiments))\n",
        "        print(\"Average collision found time : {} seconds.\".format(total_duration))\n",
        "        break\n",
        "\n",
        "        # Adds a new hash value to the set.\n",
        "    hash_set.add(hashed_msg)\n",
        "\n",
        "if collision_count != 0:\n",
        "    total_duration = total_duration / collision_count\n",
        "    print(\"Collisions found: {}\".format(collision_count))\n",
        "    print(\"Average collision found time: {} seconds.\".format(total_duration))\n",
        "\n",
        "else:\n",
        "    print(\"No collisions found!\")"
      ],
      "execution_count": null,
      "outputs": [
        {
          "output_type": "stream",
          "name": "stdout",
          "text": [
            "Opening dictionary ...\n",
            "-- Hashing started --\n",
            "Collisions found: 1\n",
            "Average collision found time: 0.09510922431945801 seconds.\n"
          ]
        }
      ]
    },
    {
      "cell_type": "code",
      "metadata": {
        "id": "8UJAzMd3lzXM"
      },
      "source": [
        "#appending the values that we obtained from the code above\n",
        "hash_size_list.append(hash_size)\n",
        "total_duration_each_exp_list.append(total_duration)\n",
        "num_collisions_list.append(collision_count)\n",
        "\n",
        "#appending the parameter values\n",
        "num_expriremnts_list.append(experiments)\n",
        "word_length_sze_list.append(word_length)"
      ],
      "execution_count": null,
      "outputs": []
    },
    {
      "cell_type": "code",
      "metadata": {
        "colab": {
          "base_uri": "https://localhost:8080/"
        },
        "id": "y7hB7oS7lzab",
        "outputId": "e928ef3b-a634-4bc8-8bf2-5fc34be48c0b"
      },
      "source": [
        "from hashlib import blake2b\n",
        "from itertools import product\n",
        "from string import ascii_letters\n",
        "import time\n",
        "\n",
        "# Hash size in bytes.\n",
        "hash_size = 5\n",
        "\n",
        "# Number of experiments.\n",
        "experiments = 100\n",
        "\n",
        "# Number of letters by word\n",
        "word_length = 5\n",
        "\n",
        "\n",
        "generate_dictionary()\n",
        "    # Use set for faster search of hashes.\n",
        "hash_set = set()\n",
        "print(\"-- Hashing started --\")\n",
        "# Set start time to measure collision.\n",
        "start_time = time.time()\n",
        "# The input message.\n",
        "collision_count = 0\n",
        "\n",
        "total_duration = 0\n",
        "\n",
        "file = open('dictionary.txt', 'r')\n",
        "\n",
        "for msg in file:\n",
        "    # Delete \\n at the end of string.\n",
        "    msg = msg.rstrip()\n",
        "        # Message in bytes.\n",
        "    byte_str = msg.encode()\n",
        "        # Hash object constructor, with hash length=3 bytes (24 bits).\n",
        "    digest = blake2b(byte_str, digest_size=hash_size)\n",
        "        # Generate the message digest.\n",
        "    hashed_msg = digest.hexdigest()\n",
        "\n",
        "    if hashed_msg in hash_set:\n",
        "            # Get collision time duration.\n",
        "        duration = time.time() - start_time\n",
        "            # print(\"Found a collision - word: {} -> hash: {} in {} seconds.\".format(msg, hashed_msg, duration))\n",
        "            # Empty the hash in every collision.\n",
        "        hash_set = set()\n",
        "            # Restart timer.\n",
        "        start_time = time.time()\n",
        "        collision_count += 1\n",
        "        total_duration += duration\n",
        "\n",
        "    if collision_count == experiments:\n",
        "        total_duration = total_duration / experiments\n",
        "        print(\"Collisions found: {}\".format(experiments))\n",
        "        print(\"Average collision found time : {} seconds.\".format(total_duration))\n",
        "        break\n",
        "\n",
        "        # Adds a new hash value to the set.\n",
        "    hash_set.add(hashed_msg)\n",
        "\n",
        "if collision_count != 0:\n",
        "    total_duration = total_duration / collision_count\n",
        "    print(\"Collisions found: {}\".format(collision_count))\n",
        "    print(\"Average collision found time: {} seconds.\".format(total_duration))\n",
        "\n",
        "else:\n",
        "    print(\"No collisions found!\")"
      ],
      "execution_count": null,
      "outputs": [
        {
          "output_type": "stream",
          "name": "stdout",
          "text": [
            "Opening dictionary ...\n",
            "-- Hashing started --\n",
            "No collisions found!\n"
          ]
        }
      ]
    },
    {
      "cell_type": "code",
      "metadata": {
        "id": "t-32jritl4Oa"
      },
      "source": [
        "#appending the values that we obtained from the code above\n",
        "hash_size_list.append(hash_size)\n",
        "total_duration_each_exp_list.append(total_duration)\n",
        "num_collisions_list.append(collision_count)\n",
        "\n",
        "#appending the parameter values\n",
        "num_expriremnts_list.append(experiments)\n",
        "word_length_sze_list.append(word_length)"
      ],
      "execution_count": null,
      "outputs": []
    },
    {
      "cell_type": "code",
      "metadata": {
        "colab": {
          "base_uri": "https://localhost:8080/"
        },
        "id": "Iub8ow1UjtmX",
        "outputId": "6ab8f917-67a7-410f-8549-4133da88e147"
      },
      "source": [
        "len(hash_size_list)\n"
      ],
      "execution_count": null,
      "outputs": [
        {
          "output_type": "execute_result",
          "data": {
            "text/plain": [
              "9"
            ]
          },
          "metadata": {},
          "execution_count": 22
        }
      ]
    },
    {
      "cell_type": "code",
      "metadata": {
        "colab": {
          "base_uri": "https://localhost:8080/"
        },
        "id": "vcBPwuavjvpl",
        "outputId": "4ebb8214-f672-4b38-89eb-ae035c1eb69e"
      },
      "source": [
        "len(total_duration_each_exp_list)\n"
      ],
      "execution_count": null,
      "outputs": [
        {
          "output_type": "execute_result",
          "data": {
            "text/plain": [
              "9"
            ]
          },
          "metadata": {},
          "execution_count": 23
        }
      ]
    },
    {
      "cell_type": "code",
      "metadata": {
        "colab": {
          "base_uri": "https://localhost:8080/"
        },
        "id": "Sx2Y1P53kGF4",
        "outputId": "efd59e24-1c9b-4111-b60e-76ff5ff10ef7"
      },
      "source": [
        "len(num_collisions_list)"
      ],
      "execution_count": null,
      "outputs": [
        {
          "output_type": "execute_result",
          "data": {
            "text/plain": [
              "9"
            ]
          },
          "metadata": {},
          "execution_count": 24
        }
      ]
    },
    {
      "cell_type": "code",
      "metadata": {
        "colab": {
          "base_uri": "https://localhost:8080/"
        },
        "id": "zIeve3IrkGMc",
        "outputId": "73bf10f0-ab18-461b-da1a-904f42db813d"
      },
      "source": [
        "len(num_expriremnts_list)\n"
      ],
      "execution_count": null,
      "outputs": [
        {
          "output_type": "execute_result",
          "data": {
            "text/plain": [
              "9"
            ]
          },
          "metadata": {},
          "execution_count": 25
        }
      ]
    },
    {
      "cell_type": "code",
      "metadata": {
        "colab": {
          "base_uri": "https://localhost:8080/"
        },
        "id": "YtjiIlA8kGOz",
        "outputId": "9ca9483f-a794-46e2-9568-c169df44e10a"
      },
      "source": [
        "len(word_length_sze_list)"
      ],
      "execution_count": null,
      "outputs": [
        {
          "output_type": "execute_result",
          "data": {
            "text/plain": [
              "9"
            ]
          },
          "metadata": {},
          "execution_count": 26
        }
      ]
    },
    {
      "cell_type": "code",
      "metadata": {
        "id": "6kqR4PAGmhyt"
      },
      "source": [
        "#after all the iterations populate our dataframe into the list\n",
        "\n",
        "collisions_df = pd.DataFrame({'word_length_sze': word_length_sze_list, 'num_collisions': num_collisions_list, 'num_expriremnts' : num_expriremnts_list, 'Average_collision_time_per_exp': total_duration_each_exp_list, 'hash_size': hash_size_list})"
      ],
      "execution_count": null,
      "outputs": []
    },
    {
      "cell_type": "code",
      "metadata": {
        "colab": {
          "base_uri": "https://localhost:8080/",
          "height": 328
        },
        "id": "hg5esXNRlOlY",
        "outputId": "fc370080-b923-443e-89da-bc9f6cd05dfe"
      },
      "source": [
        "collisions_df"
      ],
      "execution_count": null,
      "outputs": [
        {
          "output_type": "execute_result",
          "data": {
            "text/html": [
              "<div>\n",
              "<style scoped>\n",
              "    .dataframe tbody tr th:only-of-type {\n",
              "        vertical-align: middle;\n",
              "    }\n",
              "\n",
              "    .dataframe tbody tr th {\n",
              "        vertical-align: top;\n",
              "    }\n",
              "\n",
              "    .dataframe thead th {\n",
              "        text-align: right;\n",
              "    }\n",
              "</style>\n",
              "<table border=\"1\" class=\"dataframe\">\n",
              "  <thead>\n",
              "    <tr style=\"text-align: right;\">\n",
              "      <th></th>\n",
              "      <th>word_length_sze</th>\n",
              "      <th>num_collisions</th>\n",
              "      <th>num_expriremnts</th>\n",
              "      <th>Average_collision_time_per_exp</th>\n",
              "      <th>hash_size</th>\n",
              "    </tr>\n",
              "  </thead>\n",
              "  <tbody>\n",
              "    <tr>\n",
              "      <th>0</th>\n",
              "      <td>3</td>\n",
              "      <td>26</td>\n",
              "      <td>100</td>\n",
              "      <td>0.008240</td>\n",
              "      <td>3</td>\n",
              "    </tr>\n",
              "    <tr>\n",
              "      <th>1</th>\n",
              "      <td>3</td>\n",
              "      <td>1</td>\n",
              "      <td>100</td>\n",
              "      <td>0.073144</td>\n",
              "      <td>4</td>\n",
              "    </tr>\n",
              "    <tr>\n",
              "      <th>2</th>\n",
              "      <td>3</td>\n",
              "      <td>0</td>\n",
              "      <td>100</td>\n",
              "      <td>0.000000</td>\n",
              "      <td>5</td>\n",
              "    </tr>\n",
              "    <tr>\n",
              "      <th>3</th>\n",
              "      <td>3</td>\n",
              "      <td>26</td>\n",
              "      <td>150</td>\n",
              "      <td>0.008963</td>\n",
              "      <td>3</td>\n",
              "    </tr>\n",
              "    <tr>\n",
              "      <th>4</th>\n",
              "      <td>3</td>\n",
              "      <td>26</td>\n",
              "      <td>200</td>\n",
              "      <td>0.008270</td>\n",
              "      <td>3</td>\n",
              "    </tr>\n",
              "    <tr>\n",
              "      <th>5</th>\n",
              "      <td>4</td>\n",
              "      <td>26</td>\n",
              "      <td>100</td>\n",
              "      <td>0.008425</td>\n",
              "      <td>3</td>\n",
              "    </tr>\n",
              "    <tr>\n",
              "      <th>6</th>\n",
              "      <td>5</td>\n",
              "      <td>26</td>\n",
              "      <td>100</td>\n",
              "      <td>0.009015</td>\n",
              "      <td>3</td>\n",
              "    </tr>\n",
              "    <tr>\n",
              "      <th>7</th>\n",
              "      <td>4</td>\n",
              "      <td>1</td>\n",
              "      <td>100</td>\n",
              "      <td>0.095109</td>\n",
              "      <td>4</td>\n",
              "    </tr>\n",
              "    <tr>\n",
              "      <th>8</th>\n",
              "      <td>5</td>\n",
              "      <td>0</td>\n",
              "      <td>100</td>\n",
              "      <td>0.000000</td>\n",
              "      <td>5</td>\n",
              "    </tr>\n",
              "  </tbody>\n",
              "</table>\n",
              "</div>"
            ],
            "text/plain": [
              "   word_length_sze  num_collisions  ...  Average_collision_time_per_exp  hash_size\n",
              "0                3              26  ...                        0.008240          3\n",
              "1                3               1  ...                        0.073144          4\n",
              "2                3               0  ...                        0.000000          5\n",
              "3                3              26  ...                        0.008963          3\n",
              "4                3              26  ...                        0.008270          3\n",
              "5                4              26  ...                        0.008425          3\n",
              "6                5              26  ...                        0.009015          3\n",
              "7                4               1  ...                        0.095109          4\n",
              "8                5               0  ...                        0.000000          5\n",
              "\n",
              "[9 rows x 5 columns]"
            ]
          },
          "metadata": {},
          "execution_count": 28
        }
      ]
    },
    {
      "cell_type": "code",
      "metadata": {
        "id": "wiRWR-4kFN_k"
      },
      "source": [
        "# #Create a list to store the values which we can later input into a dataframe\n",
        "# word_length_sze_list = []\n",
        "# num_expriremnts_list =[]\n",
        "# hash_size_list =[]\n",
        "\n",
        "# num_collisions_list = []\n",
        "# total_duration_each_exp_list = []\n"
      ],
      "execution_count": null,
      "outputs": []
    },
    {
      "cell_type": "code",
      "metadata": {
        "id": "6u8yh6_SnX_J",
        "colab": {
          "base_uri": "https://localhost:8080/"
        },
        "outputId": "a0c7e58e-7afe-4ed6-9116-1f3a9d224831"
      },
      "source": [
        "collisions_df.info()"
      ],
      "execution_count": null,
      "outputs": [
        {
          "output_type": "stream",
          "name": "stdout",
          "text": [
            "<class 'pandas.core.frame.DataFrame'>\n",
            "RangeIndex: 9 entries, 0 to 8\n",
            "Data columns (total 5 columns):\n",
            " #   Column                          Non-Null Count  Dtype  \n",
            "---  ------                          --------------  -----  \n",
            " 0   word_length_sze                 9 non-null      int64  \n",
            " 1   num_collisions                  9 non-null      int64  \n",
            " 2   num_expriremnts                 9 non-null      int64  \n",
            " 3   Average_collision_time_per_exp  9 non-null      float64\n",
            " 4   hash_size                       9 non-null      int64  \n",
            "dtypes: float64(1), int64(4)\n",
            "memory usage: 488.0 bytes\n"
          ]
        }
      ]
    },
    {
      "cell_type": "code",
      "metadata": {
        "colab": {
          "base_uri": "https://localhost:8080/",
          "height": 556
        },
        "id": "BVJN2FhInohl",
        "outputId": "23c47b86-0780-44a3-c7a3-4fef112146ed"
      },
      "source": [
        "#creating a heatmap so we can see coreelations of different features\n",
        "fig, ax = plt.subplots(figsize=(10,6))\n",
        "sns.heatmap(collisions_df.corr(), center=0, cmap =  'Blues')\n",
        "ax.set_title('Multi-Collinearity of Hash Attributes')"
      ],
      "execution_count": null,
      "outputs": [
        {
          "output_type": "execute_result",
          "data": {
            "text/plain": [
              "Text(0.5, 1.0, 'Multi-Collinearity of Hash Attributes')"
            ]
          },
          "metadata": {},
          "execution_count": 31
        },
        {
          "output_type": "display_data",
          "data": {
            "image/png": "[encoded data removed]",
            "text/plain": [
              "<Figure size 720x432 with 2 Axes>"
            ]
          },
          "metadata": {
            "needs_background": "light"
          }
        }
      ]
    },
    {
      "cell_type": "code",
      "metadata": {
        "colab": {
          "base_uri": "https://localhost:8080/",
          "height": 204
        },
        "id": "E-zb0Z6yoQnr",
        "outputId": "83508750-b966-4b10-89f7-70334e9ad9c4"
      },
      "source": [
        "collisions_df.corr()"
      ],
      "execution_count": null,
      "outputs": [
        {
          "output_type": "execute_result",
          "data": {
            "text/html": [
              "<div>\n",
              "<style scoped>\n",
              "    .dataframe tbody tr th:only-of-type {\n",
              "        vertical-align: middle;\n",
              "    }\n",
              "\n",
              "    .dataframe tbody tr th {\n",
              "        vertical-align: top;\n",
              "    }\n",
              "\n",
              "    .dataframe thead th {\n",
              "        text-align: right;\n",
              "    }\n",
              "</style>\n",
              "<table border=\"1\" class=\"dataframe\">\n",
              "  <thead>\n",
              "    <tr style=\"text-align: right;\">\n",
              "      <th></th>\n",
              "      <th>word_length_sze</th>\n",
              "      <th>num_collisions</th>\n",
              "      <th>num_expriremnts</th>\n",
              "      <th>Average_collision_time_per_exp</th>\n",
              "      <th>hash_size</th>\n",
              "    </tr>\n",
              "  </thead>\n",
              "  <tbody>\n",
              "    <tr>\n",
              "      <th>word_length_sze</th>\n",
              "      <td>1.000000</td>\n",
              "      <td>-0.096623</td>\n",
              "      <td>-0.408248</td>\n",
              "      <td>-0.079191</td>\n",
              "      <td>0.166667</td>\n",
              "    </tr>\n",
              "    <tr>\n",
              "      <th>num_collisions</th>\n",
              "      <td>-0.096623</td>\n",
              "      <td>1.000000</td>\n",
              "      <td>0.447059</td>\n",
              "      <td>-0.481397</td>\n",
              "      <td>-0.923291</td>\n",
              "    </tr>\n",
              "    <tr>\n",
              "      <th>num_expriremnts</th>\n",
              "      <td>-0.408248</td>\n",
              "      <td>0.447059</td>\n",
              "      <td>1.000000</td>\n",
              "      <td>-0.226595</td>\n",
              "      <td>-0.408248</td>\n",
              "    </tr>\n",
              "    <tr>\n",
              "      <th>Average_collision_time_per_exp</th>\n",
              "      <td>-0.079191</td>\n",
              "      <td>-0.481397</td>\n",
              "      <td>-0.226595</td>\n",
              "      <td>1.000000</td>\n",
              "      <td>0.113249</td>\n",
              "    </tr>\n",
              "    <tr>\n",
              "      <th>hash_size</th>\n",
              "      <td>0.166667</td>\n",
              "      <td>-0.923291</td>\n",
              "      <td>-0.408248</td>\n",
              "      <td>0.113249</td>\n",
              "      <td>1.000000</td>\n",
              "    </tr>\n",
              "  </tbody>\n",
              "</table>\n",
              "</div>"
            ],
            "text/plain": [
              "                                word_length_sze  ...  hash_size\n",
              "word_length_sze                        1.000000  ...   0.166667\n",
              "num_collisions                        -0.096623  ...  -0.923291\n",
              "num_expriremnts                       -0.408248  ...  -0.408248\n",
              "Average_collision_time_per_exp        -0.079191  ...   0.113249\n",
              "hash_size                              0.166667  ...   1.000000\n",
              "\n",
              "[5 rows x 5 columns]"
            ]
          },
          "metadata": {},
          "execution_count": 32
        }
      ]
    },
    {
      "cell_type": "markdown",
      "metadata": {
        "id": "zWb9ZGP-nmww"
      },
      "source": [
        "#Plotting graphs\n",
        "\n",
        "\n",
        "*   Plotting Histogram of(number of collisions, and total duration\n",
        "*   Plotting Number of Collisions/total Duration vs Number of experiments\n",
        "*   Plotting Number of Collisions/total Duration vs Number of experiments\n",
        "*   \n",
        "\n",
        "\n",
        "\n",
        "\n",
        "\n"
      ]
    },
    {
      "cell_type": "code",
      "metadata": {
        "id": "HbWKAE4nomYS"
      },
      "source": [
        "import pandas as pd\n",
        "import seaborn as sns\n",
        "import matplotlib.pyplot as plt\n"
      ],
      "execution_count": null,
      "outputs": []
    },
    {
      "cell_type": "markdown",
      "metadata": {
        "id": "J6pRKKOlA0yG"
      },
      "source": [
        "#Plotting number of collisiona against other vaiables"
      ]
    },
    {
      "cell_type": "code",
      "metadata": {
        "id": "RRpWZ7f1nYBo",
        "colab": {
          "base_uri": "https://localhost:8080/",
          "height": 295
        },
        "outputId": "48cabaaa-31df-470a-f256-806d9810779b"
      },
      "source": [
        "#graphing Frequency of Number of Collisions\n",
        "plt.hist(collisions_df.num_collisions)\n",
        "plt.xlabel(\"Number of Collisions\")\n",
        "plt.ylabel(\"Frequency\")\n",
        "legend = ['Word Length Size', 'Frequency']\n",
        "plt.legend(legend)\n",
        "plt.title('Collisions size Histogram')\n",
        "plt.show()"
      ],
      "execution_count": null,
      "outputs": [
        {
          "output_type": "display_data",
          "data": {
            "image/png": "[encoded data removed]",
            "text/plain": [
              "<Figure size 432x288 with 1 Axes>"
            ]
          },
          "metadata": {
            "needs_background": "light"
          }
        }
      ]
    },
    {
      "cell_type": "code",
      "metadata": {
        "id": "cbRz6p2Ros_S",
        "colab": {
          "base_uri": "https://localhost:8080/",
          "height": 371
        },
        "outputId": "20e06f00-19c8-4684-b3c1-9e94f27c75aa"
      },
      "source": [
        "#Scatter plot of number of collisions vs number of expirements\n",
        "sns.scatterplot('num_collisions','num_expriremnts', data = collisions_df, s = 200, linewidth = 3, edgecolor = 'Red')\n",
        "plt.title('Scatter Plot Word length Size vs Number of experiments', color = 'black', fontsize = 18)"
      ],
      "execution_count": null,
      "outputs": [
        {
          "output_type": "stream",
          "name": "stderr",
          "text": [
            "/usr/local/lib/python3.7/dist-packages/seaborn/_decorators.py:43: FutureWarning: Pass the following variables as keyword args: x, y. From version 0.12, the only valid positional argument will be `data`, and passing other arguments without an explicit keyword will result in an error or misinterpretation.\n",
            "  FutureWarning\n"
          ]
        },
        {
          "output_type": "execute_result",
          "data": {
            "text/plain": [
              "Text(0.5, 1.0, 'Scatter Plot Word length Size vs Number of experiments')"
            ]
          },
          "metadata": {},
          "execution_count": 35
        },
        {
          "output_type": "display_data",
          "data": {
            "image/png": "[encoded data removed]",
            "text/plain": [
              "<Figure size 432x288 with 1 Axes>"
            ]
          },
          "metadata": {
            "needs_background": "light"
          }
        }
      ]
    },
    {
      "cell_type": "code",
      "metadata": {
        "id": "uwcaP1M3A5ta",
        "colab": {
          "base_uri": "https://localhost:8080/",
          "height": 395
        },
        "outputId": "d0e307b9-b3e5-4878-af69-899e199e833b"
      },
      "source": [
        "#Scatter plot of number of collisions vs number of expirements\n",
        "sns.scatterplot('num_collisions','total_duration_each_exp', data = collisions_df, s = 200, linewidth = 3, edgecolor = 'Red')\n",
        "plt.title('Scatter Plot Word length Size vs Total Duration for a Given Exp', color = 'black', fontsize = 18)"
      ],
      "execution_count": null,
      "outputs": [
        {
          "output_type": "stream",
          "name": "stderr",
          "text": [
            "/usr/local/lib/python3.7/dist-packages/seaborn/_decorators.py:43: FutureWarning: Pass the following variables as keyword args: x, y. From version 0.12, the only valid positional argument will be `data`, and passing other arguments without an explicit keyword will result in an error or misinterpretation.\n",
            "  FutureWarning\n"
          ]
        },
        {
          "output_type": "error",
          "ename": "ValueError",
          "evalue": "ignored",
          "traceback": [
            "\u001b[0;31m---------------------------------------------------------------------------\u001b[0m",
            "\u001b[0;31mValueError\u001b[0m                                Traceback (most recent call last)",
            "\u001b[0;32m<ipython-input-36-64397f53df26>\u001b[0m in \u001b[0;36m<module>\u001b[0;34m()\u001b[0m\n\u001b[1;32m      1\u001b[0m \u001b[0;31m#Scatter plot of number of collisions vs number of expirements\u001b[0m\u001b[0;34m\u001b[0m\u001b[0;34m\u001b[0m\u001b[0;34m\u001b[0m\u001b[0m\n\u001b[0;32m----> 2\u001b[0;31m \u001b[0msns\u001b[0m\u001b[0;34m.\u001b[0m\u001b[0mscatterplot\u001b[0m\u001b[0;34m(\u001b[0m\u001b[0;34m'num_collisions'\u001b[0m\u001b[0;34m,\u001b[0m\u001b[0;34m'total_duration_each_exp'\u001b[0m\u001b[0;34m,\u001b[0m \u001b[0mdata\u001b[0m \u001b[0;34m=\u001b[0m \u001b[0mcollisions_df\u001b[0m\u001b[0;34m,\u001b[0m \u001b[0ms\u001b[0m \u001b[0;34m=\u001b[0m \u001b[0;36m200\u001b[0m\u001b[0;34m,\u001b[0m \u001b[0mlinewidth\u001b[0m \u001b[0;34m=\u001b[0m \u001b[0;36m3\u001b[0m\u001b[0;34m,\u001b[0m \u001b[0medgecolor\u001b[0m \u001b[0;34m=\u001b[0m \u001b[0;34m'Red'\u001b[0m\u001b[0;34m)\u001b[0m\u001b[0;34m\u001b[0m\u001b[0;34m\u001b[0m\u001b[0m\n\u001b[0m\u001b[1;32m      3\u001b[0m \u001b[0mplt\u001b[0m\u001b[0;34m.\u001b[0m\u001b[0mtitle\u001b[0m\u001b[0;34m(\u001b[0m\u001b[0;34m'Scatter Plot Word length Size vs Total Duration for a Given Exp'\u001b[0m\u001b[0;34m,\u001b[0m \u001b[0mcolor\u001b[0m \u001b[0;34m=\u001b[0m \u001b[0;34m'black'\u001b[0m\u001b[0;34m,\u001b[0m \u001b[0mfontsize\u001b[0m \u001b[0;34m=\u001b[0m \u001b[0;36m18\u001b[0m\u001b[0;34m)\u001b[0m\u001b[0;34m\u001b[0m\u001b[0;34m\u001b[0m\u001b[0m\n",
            "\u001b[0;32m/usr/local/lib/python3.7/dist-packages/seaborn/_decorators.py\u001b[0m in \u001b[0;36minner_f\u001b[0;34m(*args, **kwargs)\u001b[0m\n\u001b[1;32m     44\u001b[0m             )\n\u001b[1;32m     45\u001b[0m         \u001b[0mkwargs\u001b[0m\u001b[0;34m.\u001b[0m\u001b[0mupdate\u001b[0m\u001b[0;34m(\u001b[0m\u001b[0;34m{\u001b[0m\u001b[0mk\u001b[0m\u001b[0;34m:\u001b[0m \u001b[0marg\u001b[0m \u001b[0;32mfor\u001b[0m \u001b[0mk\u001b[0m\u001b[0;34m,\u001b[0m \u001b[0marg\u001b[0m \u001b[0;32min\u001b[0m \u001b[0mzip\u001b[0m\u001b[0;34m(\u001b[0m\u001b[0msig\u001b[0m\u001b[0;34m.\u001b[0m\u001b[0mparameters\u001b[0m\u001b[0;34m,\u001b[0m \u001b[0margs\u001b[0m\u001b[0;34m)\u001b[0m\u001b[0;34m}\u001b[0m\u001b[0;34m)\u001b[0m\u001b[0;34m\u001b[0m\u001b[0;34m\u001b[0m\u001b[0m\n\u001b[0;32m---> 46\u001b[0;31m         \u001b[0;32mreturn\u001b[0m \u001b[0mf\u001b[0m\u001b[0;34m(\u001b[0m\u001b[0;34m**\u001b[0m\u001b[0mkwargs\u001b[0m\u001b[0;34m)\u001b[0m\u001b[0;34m\u001b[0m\u001b[0;34m\u001b[0m\u001b[0m\n\u001b[0m\u001b[1;32m     47\u001b[0m     \u001b[0;32mreturn\u001b[0m \u001b[0minner_f\u001b[0m\u001b[0;34m\u001b[0m\u001b[0;34m\u001b[0m\u001b[0m\n\u001b[1;32m     48\u001b[0m \u001b[0;34m\u001b[0m\u001b[0m\n",
            "\u001b[0;32m/usr/local/lib/python3.7/dist-packages/seaborn/relational.py\u001b[0m in \u001b[0;36mscatterplot\u001b[0;34m(x, y, hue, style, size, data, palette, hue_order, hue_norm, sizes, size_order, size_norm, markers, style_order, x_bins, y_bins, units, estimator, ci, n_boot, alpha, x_jitter, y_jitter, legend, ax, **kwargs)\u001b[0m\n\u001b[1;32m    810\u001b[0m         \u001b[0mx_bins\u001b[0m\u001b[0;34m=\u001b[0m\u001b[0mx_bins\u001b[0m\u001b[0;34m,\u001b[0m \u001b[0my_bins\u001b[0m\u001b[0;34m=\u001b[0m\u001b[0my_bins\u001b[0m\u001b[0;34m,\u001b[0m\u001b[0;34m\u001b[0m\u001b[0;34m\u001b[0m\u001b[0m\n\u001b[1;32m    811\u001b[0m         \u001b[0mestimator\u001b[0m\u001b[0;34m=\u001b[0m\u001b[0mestimator\u001b[0m\u001b[0;34m,\u001b[0m \u001b[0mci\u001b[0m\u001b[0;34m=\u001b[0m\u001b[0mci\u001b[0m\u001b[0;34m,\u001b[0m \u001b[0mn_boot\u001b[0m\u001b[0;34m=\u001b[0m\u001b[0mn_boot\u001b[0m\u001b[0;34m,\u001b[0m\u001b[0;34m\u001b[0m\u001b[0;34m\u001b[0m\u001b[0m\n\u001b[0;32m--> 812\u001b[0;31m         \u001b[0malpha\u001b[0m\u001b[0;34m=\u001b[0m\u001b[0malpha\u001b[0m\u001b[0;34m,\u001b[0m \u001b[0mx_jitter\u001b[0m\u001b[0;34m=\u001b[0m\u001b[0mx_jitter\u001b[0m\u001b[0;34m,\u001b[0m \u001b[0my_jitter\u001b[0m\u001b[0;34m=\u001b[0m\u001b[0my_jitter\u001b[0m\u001b[0;34m,\u001b[0m \u001b[0mlegend\u001b[0m\u001b[0;34m=\u001b[0m\u001b[0mlegend\u001b[0m\u001b[0;34m,\u001b[0m\u001b[0;34m\u001b[0m\u001b[0;34m\u001b[0m\u001b[0m\n\u001b[0m\u001b[1;32m    813\u001b[0m     )\n\u001b[1;32m    814\u001b[0m \u001b[0;34m\u001b[0m\u001b[0m\n",
            "\u001b[0;32m/usr/local/lib/python3.7/dist-packages/seaborn/relational.py\u001b[0m in \u001b[0;36m__init__\u001b[0;34m(self, data, variables, x_bins, y_bins, estimator, ci, n_boot, alpha, x_jitter, y_jitter, legend)\u001b[0m\n\u001b[1;32m    585\u001b[0m         )\n\u001b[1;32m    586\u001b[0m \u001b[0;34m\u001b[0m\u001b[0m\n\u001b[0;32m--> 587\u001b[0;31m         \u001b[0msuper\u001b[0m\u001b[0;34m(\u001b[0m\u001b[0;34m)\u001b[0m\u001b[0;34m.\u001b[0m\u001b[0m__init__\u001b[0m\u001b[0;34m(\u001b[0m\u001b[0mdata\u001b[0m\u001b[0;34m=\u001b[0m\u001b[0mdata\u001b[0m\u001b[0;34m,\u001b[0m \u001b[0mvariables\u001b[0m\u001b[0;34m=\u001b[0m\u001b[0mvariables\u001b[0m\u001b[0;34m)\u001b[0m\u001b[0;34m\u001b[0m\u001b[0;34m\u001b[0m\u001b[0m\n\u001b[0m\u001b[1;32m    588\u001b[0m \u001b[0;34m\u001b[0m\u001b[0m\n\u001b[1;32m    589\u001b[0m         \u001b[0mself\u001b[0m\u001b[0;34m.\u001b[0m\u001b[0malpha\u001b[0m \u001b[0;34m=\u001b[0m \u001b[0malpha\u001b[0m\u001b[0;34m\u001b[0m\u001b[0;34m\u001b[0m\u001b[0m\n",
            "\u001b[0;32m/usr/local/lib/python3.7/dist-packages/seaborn/_core.py\u001b[0m in \u001b[0;36m__init__\u001b[0;34m(self, data, variables)\u001b[0m\n\u001b[1;32m    603\u001b[0m     \u001b[0;32mdef\u001b[0m \u001b[0m__init__\u001b[0m\u001b[0;34m(\u001b[0m\u001b[0mself\u001b[0m\u001b[0;34m,\u001b[0m \u001b[0mdata\u001b[0m\u001b[0;34m=\u001b[0m\u001b[0;32mNone\u001b[0m\u001b[0;34m,\u001b[0m \u001b[0mvariables\u001b[0m\u001b[0;34m=\u001b[0m\u001b[0;34m{\u001b[0m\u001b[0;34m}\u001b[0m\u001b[0;34m)\u001b[0m\u001b[0;34m:\u001b[0m\u001b[0;34m\u001b[0m\u001b[0;34m\u001b[0m\u001b[0m\n\u001b[1;32m    604\u001b[0m \u001b[0;34m\u001b[0m\u001b[0m\n\u001b[0;32m--> 605\u001b[0;31m         \u001b[0mself\u001b[0m\u001b[0;34m.\u001b[0m\u001b[0massign_variables\u001b[0m\u001b[0;34m(\u001b[0m\u001b[0mdata\u001b[0m\u001b[0;34m,\u001b[0m \u001b[0mvariables\u001b[0m\u001b[0;34m)\u001b[0m\u001b[0;34m\u001b[0m\u001b[0;34m\u001b[0m\u001b[0m\n\u001b[0m\u001b[1;32m    606\u001b[0m \u001b[0;34m\u001b[0m\u001b[0m\n\u001b[1;32m    607\u001b[0m         \u001b[0;32mfor\u001b[0m \u001b[0mvar\u001b[0m\u001b[0;34m,\u001b[0m \u001b[0mcls\u001b[0m \u001b[0;32min\u001b[0m \u001b[0mself\u001b[0m\u001b[0;34m.\u001b[0m\u001b[0m_semantic_mappings\u001b[0m\u001b[0;34m.\u001b[0m\u001b[0mitems\u001b[0m\u001b[0;34m(\u001b[0m\u001b[0;34m)\u001b[0m\u001b[0;34m:\u001b[0m\u001b[0;34m\u001b[0m\u001b[0;34m\u001b[0m\u001b[0m\n",
            "\u001b[0;32m/usr/local/lib/python3.7/dist-packages/seaborn/_core.py\u001b[0m in \u001b[0;36massign_variables\u001b[0;34m(self, data, variables)\u001b[0m\n\u001b[1;32m    667\u001b[0m             \u001b[0mself\u001b[0m\u001b[0;34m.\u001b[0m\u001b[0minput_format\u001b[0m \u001b[0;34m=\u001b[0m \u001b[0;34m\"long\"\u001b[0m\u001b[0;34m\u001b[0m\u001b[0;34m\u001b[0m\u001b[0m\n\u001b[1;32m    668\u001b[0m             plot_data, variables = self._assign_variables_longform(\n\u001b[0;32m--> 669\u001b[0;31m                 \u001b[0mdata\u001b[0m\u001b[0;34m,\u001b[0m \u001b[0;34m**\u001b[0m\u001b[0mvariables\u001b[0m\u001b[0;34m,\u001b[0m\u001b[0;34m\u001b[0m\u001b[0;34m\u001b[0m\u001b[0m\n\u001b[0m\u001b[1;32m    670\u001b[0m             )\n\u001b[1;32m    671\u001b[0m \u001b[0;34m\u001b[0m\u001b[0m\n",
            "\u001b[0;32m/usr/local/lib/python3.7/dist-packages/seaborn/_core.py\u001b[0m in \u001b[0;36m_assign_variables_longform\u001b[0;34m(self, data, **kwargs)\u001b[0m\n\u001b[1;32m    901\u001b[0m \u001b[0;34m\u001b[0m\u001b[0m\n\u001b[1;32m    902\u001b[0m                 \u001b[0merr\u001b[0m \u001b[0;34m=\u001b[0m \u001b[0;34mf\"Could not interpret value `{val}` for parameter `{key}`\"\u001b[0m\u001b[0;34m\u001b[0m\u001b[0;34m\u001b[0m\u001b[0m\n\u001b[0;32m--> 903\u001b[0;31m                 \u001b[0;32mraise\u001b[0m \u001b[0mValueError\u001b[0m\u001b[0;34m(\u001b[0m\u001b[0merr\u001b[0m\u001b[0;34m)\u001b[0m\u001b[0;34m\u001b[0m\u001b[0;34m\u001b[0m\u001b[0m\n\u001b[0m\u001b[1;32m    904\u001b[0m \u001b[0;34m\u001b[0m\u001b[0m\n\u001b[1;32m    905\u001b[0m             \u001b[0;32melse\u001b[0m\u001b[0;34m:\u001b[0m\u001b[0;34m\u001b[0m\u001b[0;34m\u001b[0m\u001b[0m\n",
            "\u001b[0;31mValueError\u001b[0m: Could not interpret value `total_duration_each_exp` for parameter `y`"
          ]
        }
      ]
    },
    {
      "cell_type": "code",
      "metadata": {
        "id": "RNVJjKcdA55s"
      },
      "source": [
        "#Scatter plot of number of collisions vs number of expirements\n",
        "sns.scatterplot('num_collisions','word_length_sze', data = collisions_df, s = 200, linewidth = 3, edgecolor = 'Red')\n",
        "plt.title('Scatter Plot Word length Size vs Total Duration for a Given Exp', color = 'black', fontsize = 18)"
      ],
      "execution_count": null,
      "outputs": []
    },
    {
      "cell_type": "markdown",
      "metadata": {
        "id": "sxqN175VBhvc"
      },
      "source": [
        "#Plotting distribution of Total Duration "
      ]
    },
    {
      "cell_type": "code",
      "metadata": {
        "id": "LV_5R2yS_xzT"
      },
      "source": [
        "#graphing Distribution of Total Durations\n",
        "plt.hist(collisions_df.num_collisions)\n",
        "plt.xlabel(\"Total Duration\")\n",
        "plt.ylabel(\"Frequency\")\n",
        "legend = ['Word Length Size', 'Frequency']\n",
        "plt.legend(legend)\n",
        "plt.title('Collisions size Histogram')\n",
        "plt.show()"
      ],
      "execution_count": null,
      "outputs": []
    },
    {
      "cell_type": "code",
      "metadata": {
        "id": "ipwMLBoA_x8A"
      },
      "source": [
        "#Scatter plot of number of collisions vs number of expirements\n",
        "sns.scatterplot('total_duration_each_exp','num_expriremnts', data = collisions_df, s = 200, linewidth = 3, edgecolor = 'Red')\n",
        "plt.title('Scatter Plot Total Duration vs Number of experiments', color = 'black', fontsize = 18)"
      ],
      "execution_count": null,
      "outputs": []
    },
    {
      "cell_type": "code",
      "metadata": {
        "id": "g5mrsB0zBmDY"
      },
      "source": [
        "#Scatter plot of number of collisions vs number of expirements\n",
        "sns.scatterplot('total_duration_each_exp','word_length_sze', data = collisions_df, s = 200, linewidth = 3, edgecolor = 'Red')\n",
        "plt.title('Scatter Plot Total Duration vs Word Length Size', color = 'black', fontsize = 18)"
      ],
      "execution_count": null,
      "outputs": []
    },
    {
      "cell_type": "code",
      "metadata": {
        "id": "z45qIEBvBmGA"
      },
      "source": [
        "#Scatter plot of number of collisions vs number of expirements\n",
        "sns.scatterplot('total_duration_each_exp','num_collisions', data = collisions_df, s = 200, linewidth = 3, edgecolor = 'Red')\n",
        "plt.title('Scatter Plot Total Duration vs Word Length Size', color = 'black', fontsize = 18)"
      ],
      "execution_count": null,
      "outputs": []
    },
    {
      "cell_type": "code",
      "metadata": {
        "id": "q69yRGeCCW2h"
      },
      "source": [
        "#getting the correlations\n",
        "collisions_df.corr()"
      ],
      "execution_count": null,
      "outputs": []
    }
  ]
}